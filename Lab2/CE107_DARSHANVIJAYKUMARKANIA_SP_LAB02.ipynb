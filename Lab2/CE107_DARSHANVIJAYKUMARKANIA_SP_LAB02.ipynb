{
 "cells": [
  {
   "cell_type": "markdown",
   "metadata": {},
   "source": [
    "#### DATE: 9 DEC 2024"
   ]
  },
  {
   "cell_type": "markdown",
   "metadata": {},
   "source": [
    "1. Given the participants' score sheet for your University Sports Day, you are required to find the runner-up n score. You are given scores. Store them in a list and find the score of the runner-up."
   ]
  },
  {
   "cell_type": "code",
   "execution_count": null,
   "metadata": {},
   "outputs": [],
   "source": [
    "import random\n",
    "lst = [random.randint(1, 100) for _ in range(10)]\n",
    "st = set(lst)\n",
    "print(lst)\n",
    "print(st)\n",
    "print(sorted(st))\n",
    "print(\"Second Max\", (sorted(st))[-2])"
   ]
  },
  {
   "cell_type": "markdown",
   "metadata": {},
   "source": [
    "2. Write a Python script to print a dictionary where the keys are numbers between 1 and 15 (both included) and the values are square of keys."
   ]
  },
  {
   "cell_type": "code",
   "execution_count": null,
   "metadata": {},
   "outputs": [],
   "source": [
    "dic = {i: i**2 for i in range(1, 16)}\n",
    "print(dic)"
   ]
  },
  {
   "cell_type": "markdown",
   "metadata": {},
   "source": [
    "3. Create a list of intergers and print squares of all numbers using list Comprehension."
   ]
  },
  {
   "cell_type": "code",
   "execution_count": null,
   "metadata": {},
   "outputs": [],
   "source": [
    "squares = [x for x in range(10)]\n",
    "for i in squares:\n",
    "    print(i**2)"
   ]
  },
  {
   "cell_type": "markdown",
   "metadata": {},
   "source": [
    "4. Create a dictionary of country and their capital. Take n inputs from the user. After the dictionary is created, perform the following operations :\n",
    "\n",
    "- Search based on a key\n",
    "- Delete an element based on a key"
   ]
  },
  {
   "cell_type": "code",
   "execution_count": null,
   "metadata": {},
   "outputs": [],
   "source": [
    "size = int(input(\"Enter How many Pair: \"))\n",
    "dict = {}\n",
    "for i in range(0, size):\n",
    "    country = input(\"Enter Country Name: \")\n",
    "    capital = input(f\"Enter {country} Capital: \")\n",
    "    dict[country] = capital\n",
    "print(dict)\n",
    "country = input(\"Enter Country Name You want to search: \")\n",
    "print(dict[country])\n",
    "country = input(\"Enter Country Name You want to Delete: \")\n",
    "dict.pop(country)\n",
    "print(dict)"
   ]
  },
  {
   "cell_type": "markdown",
   "metadata": {},
   "source": [
    "5. Write a Python program to count the number of characters (character frequency) in a string."
   ]
  },
  {
   "cell_type": "code",
   "execution_count": null,
   "metadata": {},
   "outputs": [],
   "source": [
    "str = input(\"Enter String\")\n",
    "map = {}\n",
    "for i in str:\n",
    "    if i in map:\n",
    "        map[i] += 1\n",
    "    else:\n",
    "        map[i] = 1\n",
    "print(map)"
   ]
  },
  {
   "cell_type": "markdown",
   "metadata": {},
   "source": [
    "6. Write a Python program to convert a given string into a list of words, modify one word and convert it back to the string."
   ]
  },
  {
   "cell_type": "code",
   "execution_count": null,
   "metadata": {},
   "outputs": [],
   "source": [
    "str = input(\"Enter String\")\n",
    "lst = str.split(\" \")\n",
    "print(lst)\n",
    "lst[0] = input(\"Enter New Word\")\n",
    "str = \" \".join(lst)\n",
    "print(str)"
   ]
  },
  {
   "cell_type": "markdown",
   "metadata": {},
   "source": [
    "7. Write a Python program to count the occurrences of each word in a given sentence."
   ]
  },
  {
   "cell_type": "code",
   "execution_count": null,
   "metadata": {},
   "outputs": [],
   "source": [
    "str = input(\"Enter String seperated by space: \")\n",
    "for i in str.split(\" \"):\n",
    "    print(i+\" \",str.count(i))"
   ]
  },
  {
   "cell_type": "markdown",
   "metadata": {},
   "source": [
    "8. Write a Python program to count occurrences of a substring in a string."
   ]
  },
  {
   "cell_type": "code",
   "execution_count": null,
   "metadata": {},
   "outputs": [],
   "source": [
    "str = input(\"Enter String\")\n",
    "substr = input(\"Enter Substring\")\n",
    "print(str.count(substr))"
   ]
  }
 ],
 "metadata": {
  "kernelspec": {
   "display_name": "Python 3",
   "language": "python",
   "name": "python3"
  },
  "language_info": {
   "codemirror_mode": {
    "name": "ipython",
    "version": 3
   },
   "file_extension": ".py",
   "mimetype": "text/x-python",
   "name": "python",
   "nbconvert_exporter": "python",
   "pygments_lexer": "ipython3",
   "version": "3.13.1"
  }
 },
 "nbformat": 4,
 "nbformat_minor": 2
}
