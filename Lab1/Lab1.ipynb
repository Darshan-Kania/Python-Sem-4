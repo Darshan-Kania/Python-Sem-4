{
 "cells": [
  {
   "cell_type": "markdown",
   "metadata": {},
   "source": [
    "# LAB 1 Assignment"
   ]
  },
  {
   "cell_type": "markdown",
   "metadata": {},
   "source": [
    "### 1. Calculate the sum of all numbers from 1 to a given number"
   ]
  },
  {
   "cell_type": "code",
   "execution_count": null,
   "metadata": {},
   "outputs": [],
   "source": [
    "n = int(input(\"Enter Number\"))\n",
    "sum = 0\n",
    "for i in range(1, n+1, 1):\n",
    "    sum += i\n",
    "print(sum)"
   ]
  },
  {
   "cell_type": "markdown",
   "metadata": {},
   "source": [
    "### 2. Write a program to display all prime numbers within a range"
   ]
  },
  {
   "cell_type": "code",
   "execution_count": null,
   "metadata": {},
   "outputs": [],
   "source": [
    "begin = int(input(\"Enter Begining Range\"))\n",
    "end = int(input(\"Enter End Range\"))\n",
    "for num in range(begin, end, 1):\n",
    "    flag = False\n",
    "    if (num != 1):\n",
    "        for i in range(2, int(num/2)+1, 1):\n",
    "            if (num % i == 0):\n",
    "                flag = True\n",
    "                break\n",
    "        if (flag == False):\n",
    "            print(num)"
   ]
  },
  {
   "cell_type": "markdown",
   "metadata": {},
   "source": [
    "### 3. A shop will give discount of 10% if the cost of purchased quantity is more than 1000. Ask user for quantity Suppose, one unit will cost 100. Judge and print total cost for user."
   ]
  },
  {
   "cell_type": "code",
   "execution_count": null,
   "metadata": {},
   "outputs": [],
   "source": [
    "quantity = int(input(\"Enter Quantity\"))\n",
    "originalCost = quantity*100\n",
    "if (originalCost > 1000):\n",
    "    discount = 0.1*originalCost\n",
    "    totalCost = originalCost-discount\n",
    "else:\n",
    "    totalCost = originalCost\n",
    "print(\"Total Cost is \", totalCost)"
   ]
  },
  {
   "cell_type": "markdown",
   "metadata": {},
   "source": [
    "### 4. A school has following rules for grading system:\n",
    "\n",
    "   - a. Below 25 - F\n",
    "   - b. 25 to 45 - E\n",
    "   - c. 45 to 50 - D\n",
    "   - d. 50 to 60 - C\n",
    "   - e. 60 to 80 - B\n",
    "   - f. Above 80 - A\n",
    "   - Ask user to enter marks and print the corresponding grade."
   ]
  },
  {
   "cell_type": "code",
   "execution_count": null,
   "metadata": {},
   "outputs": [],
   "source": [
    "marks = int(input(\"Enter Marks\"))\n",
    "if (marks > 80):\n",
    "    print(\"A\")\n",
    "elif (marks > 60 and marks <= 80):\n",
    "    print(\"B\")\n",
    "elif (marks > 50 and marks <= 60):\n",
    "    print(\"C\")\n",
    "elif (marks > 45 and marks <= 50):\n",
    "    print(\"D\")\n",
    "elif (marks > 25 and marks <= 45):\n",
    "    print(\"E\")\n",
    "else:\n",
    "    print(\"F\")"
   ]
  },
  {
   "cell_type": "markdown",
   "metadata": {},
   "source": [
    "### 5. Write a program to find largest number out of three numbers entered by user."
   ]
  },
  {
   "cell_type": "code",
   "execution_count": null,
   "metadata": {},
   "outputs": [],
   "source": [
    "num1 = int(input(\"Enter Number\"))\n",
    "num2 = int(input(\"Enter Number\"))\n",
    "num3 = int(input(\"Enter Number\"))\n",
    "print(max(num1, num2, num3))"
   ]
  }
 ],
 "metadata": {
  "kernelspec": {
   "display_name": "Python 3",
   "language": "python",
   "name": "python3"
  },
  "language_info": {
   "codemirror_mode": {
    "name": "ipython",
    "version": 3
   },
   "file_extension": ".py",
   "mimetype": "text/x-python",
   "name": "python",
   "nbconvert_exporter": "python",
   "pygments_lexer": "ipython3",
   "version": "3.13.0"
  }
 },
 "nbformat": 4,
 "nbformat_minor": 2
}
