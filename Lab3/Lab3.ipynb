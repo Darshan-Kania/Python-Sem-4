{
 "cells": [
  {
   "cell_type": "markdown",
   "metadata": {},
   "source": [
    "# Lab3\n"
   ]
  },
  {
   "cell_type": "markdown",
   "metadata": {},
   "source": [
    "1.  Write a Python function to check whether a string is a pangram or not.\n",
    "\n",
    "    - Note : Pangrams are words or sentences containing every letter of the alphabet at least once.\n",
    "    - For example : \"The quick brown fox jumps over the lazy dog\"\n"
   ]
  },
  {
   "cell_type": "code",
   "execution_count": null,
   "metadata": {},
   "outputs": [],
   "source": []
  },
  {
   "cell_type": "markdown",
   "metadata": {},
   "source": [
    "2.  Write a Python function that takes a list and returns a new list with unique elements of the first list."
   ]
  },
  {
   "cell_type": "code",
   "execution_count": null,
   "metadata": {},
   "outputs": [],
   "source": [
    "import random\n",
    "def MakeListUniqe(lst):\n",
    "    return list(set(lst))\n",
    "lst = [random.randint(1, 100) for i in range(10)]\n",
    "print(lst)\n",
    "print(MakeListUniqe(lst))"
   ]
  },
  {
   "cell_type": "markdown",
   "metadata": {},
   "source": [
    "3.  Write a Python function that takes a list and returns product of all elements in the list."
   ]
  },
  {
   "cell_type": "code",
   "execution_count": 46,
   "metadata": {},
   "outputs": [
    {
     "name": "stdout",
     "output_type": "stream",
     "text": [
      "[5, 5, 4, 3, 2]\n",
      "600\n"
     ]
    }
   ],
   "source": [
    "import operator\n",
    "from itertools import accumulate\n",
    "\n",
    "\n",
    "def ProductAllElementList(lst):\n",
    "    return list(accumulate(lst, operator.mul))[-1]\n",
    "\n",
    "\n",
    "lst = [random.randint(1, 5) for i in range(5)]\n",
    "print(lst)\n",
    "print(ProductAllElementList(lst))"
   ]
  },
  {
   "cell_type": "markdown",
   "metadata": {},
   "source": [
    "4.  Write a Python function student_data () which will print the id of a student (student_id). If the user passes an argument student_name or student_class the function will print the student name and class."
   ]
  },
  {
   "cell_type": "code",
   "execution_count": null,
   "metadata": {},
   "outputs": [],
   "source": []
  },
  {
   "cell_type": "markdown",
   "metadata": {},
   "source": [
    "5.  Write a Python class to find a pair of elements (indices of the two numbers) from a given array whose sum equals a specific target number.\n",
    "\n",
    "    - Input: numbers= [10,20,10,40,50,60,70], target=50\n",
    "    - Output: 3, 4"
   ]
  },
  {
   "cell_type": "code",
   "execution_count": null,
   "metadata": {},
   "outputs": [],
   "source": []
  },
  {
   "cell_type": "markdown",
   "metadata": {},
   "source": [
    "6.  Write a Python class to reverse a string word by word."
   ]
  },
  {
   "cell_type": "code",
   "execution_count": null,
   "metadata": {},
   "outputs": [],
   "source": []
  },
  {
   "cell_type": "markdown",
   "metadata": {},
   "source": [
    "7.  Create a BankAccount class. Your class should support the following methods:\n",
    "\n",
    "- withdraw\n",
    "- deposit\n",
    "- get_balance\n",
    "- change_pin\n",
    "\n",
    "- Create a SavingsAccount class that behaves just like a BankAccount, but also has an interest rate and a method that increases the balance by the appropriate amount of interest.\n",
    "- Once you’ve created a new class, it can be used just like any other class. For instance, you can create a subclass of a class that is a subclass of another class and so on. Create a FeeSavingsAccount class that behaves just like a SavingsAccount, but also charges a fee every time you withdraw money. The fee should be set in the constructor and deducted before each withdrawal."
   ]
  },
  {
   "cell_type": "code",
   "execution_count": null,
   "metadata": {},
   "outputs": [],
   "source": []
  }
 ],
 "metadata": {
  "kernelspec": {
   "display_name": "Python 3",
   "language": "python",
   "name": "python3"
  },
  "language_info": {
   "codemirror_mode": {
    "name": "ipython",
    "version": 3
   },
   "file_extension": ".py",
   "mimetype": "text/x-python",
   "name": "python",
   "nbconvert_exporter": "python",
   "pygments_lexer": "ipython3",
   "version": "3.13.1"
  }
 },
 "nbformat": 4,
 "nbformat_minor": 2
}
