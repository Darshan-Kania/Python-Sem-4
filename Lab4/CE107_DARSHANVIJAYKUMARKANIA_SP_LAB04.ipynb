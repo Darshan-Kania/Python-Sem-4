{
 "cells": [
  {
   "cell_type": "markdown",
   "metadata": {},
   "source": [
    "### Practicing Different Operation"
   ]
  },
  {
   "cell_type": "code",
   "execution_count": null,
   "metadata": {},
   "outputs": [],
   "source": [
    "# Read the content of the file test.txt and print it to the console\n",
    "file1=open(\"test.txt\",\"r\")\n",
    "read_content = file1.read()\n",
    "file1.close()\n",
    "print(read_content)"
   ]
  },
  {
   "cell_type": "code",
   "execution_count": null,
   "metadata": {},
   "outputs": [],
   "source": [
    "# Writing Into File\n",
    "file2=open(\"test.txt\",\"w\")\n",
    "file2.write(\"I am Darshan\")\n",
    "file2.close()\n",
    "print(\"File Written Successfully\")\n",
    "file1=open(\"test.txt\",\"r\")\n",
    "read_content = file1.read()\n",
    "file1.close()\n",
    "print(read_content)"
   ]
  },
  {
   "cell_type": "code",
   "execution_count": null,
   "metadata": {},
   "outputs": [],
   "source": [
    "# Appending Into File\n",
    "file3=open(\"test.txt\",\"a\")\n",
    "file3.write(\", I am a Software Engineer\")\n",
    "file3.close()\n",
    "print(\"File Appended Successfully\")\n",
    "file1=open(\"test.txt\",\"r\")\n",
    "read_content = file1.read()\n",
    "file1.close()\n",
    "print(read_content)"
   ]
  },
  {
   "cell_type": "code",
   "execution_count": null,
   "metadata": {},
   "outputs": [],
   "source": [
    "# Exclushive Creation\n",
    "file4=open(\"test2.txt\",\"x\")\n",
    "file4.write(\"I am Darshan\")\n",
    "file4.close()\n",
    "print(\"File Created Successfully\")\n"
   ]
  },
  {
   "cell_type": "markdown",
   "metadata": {},
   "source": [
    "## Exercise"
   ]
  },
  {
   "cell_type": "markdown",
   "metadata": {},
   "source": [
    "1. Write a Python program to count the frequency of words in a file. "
   ]
  },
  {
   "cell_type": "code",
   "execution_count": null,
   "metadata": {},
   "outputs": [],
   "source": [
    "q1=open(\"Q1.txt\",\"r\")\n",
    "q1_content = q1.read()\n",
    "q1.close()\n",
    "words=set(q1_content.split())\n",
    "for word in words:\n",
    "    print(word,q1_content.count(word))"
   ]
  },
  {
   "cell_type": "markdown",
   "metadata": {},
   "source": [
    "2. Write a Python program to write a list to a file. "
   ]
  },
  {
   "cell_type": "code",
   "execution_count": 12,
   "metadata": {},
   "outputs": [],
   "source": [
    "q2File = open(\"Q2.txt\", \"x\")\n",
    "lst = [\"Apple\", \"Banana\", \"Mango\"]\n",
    "for i in lst:\n",
    "    q2File.write(i + \"\\n\")\n",
    "q2File.close()"
   ]
  },
  {
   "cell_type": "markdown",
   "metadata": {},
   "source": [
    "3. Write a Python program to generate 26 text files named A.txt, B.txt, and so on up to \n",
    "Z.txt."
   ]
  },
  {
   "cell_type": "code",
   "execution_count": null,
   "metadata": {},
   "outputs": [],
   "source": [
    "import string\n",
    "\n",
    "for char in string.ascii_uppercase:\n",
    "    file = open(char + \".txt\", \"x\")\n",
    "    file.close()"
   ]
  },
  {
   "cell_type": "markdown",
   "metadata": {},
   "source": [
    "4. Write a Python program to convert Python objects into JSON strings. Print all the \n",
    "values."
   ]
  },
  {
   "cell_type": "code",
   "execution_count": null,
   "metadata": {},
   "outputs": [],
   "source": [
    "import json\n",
    "\n",
    "# Convert Python objects into JSON strings\n",
    "json_char = json.dumps(char)\n",
    "json_lst = json.dumps(lst)\n",
    "json_q1_content = json.dumps(q1_content)\n",
    "json_read_content = json.dumps(read_content)\n",
    "json_words = json.dumps(list(words))\n",
    "\n",
    "# Print all the values\n",
    "print(\"JSON char:\", json_char)\n",
    "print(\"JSON lst:\", json_lst)\n",
    "print(\"JSON q1_content:\", json_q1_content)\n",
    "print(\"JSON read_content:\", json_read_content)\n",
    "print(\"JSON words:\", json_words)"
   ]
  },
  {
   "cell_type": "markdown",
   "metadata": {},
   "source": [
    "5. Write a Python program to square and cube every number in a given list of integers \n",
    "using Lambda. "
   ]
  },
  {
   "cell_type": "code",
   "execution_count": null,
   "metadata": {},
   "outputs": [],
   "source": [
    "lst = [1, 2, 3, 4, 5, 6, 7, 8, 9, 10]\n",
    "square = map(lambda x: x**2, lst)\n",
    "cube = map(lambda x: x**3, lst)\n",
    "print(list(square))\n",
    "print(list(cube))"
   ]
  },
  {
   "cell_type": "markdown",
   "metadata": {},
   "source": [
    "6. Write a Python program to find palindromes in a given list of strings using Lambda."
   ]
  },
  {
   "cell_type": "code",
   "execution_count": null,
   "metadata": {},
   "outputs": [],
   "source": [
    "strings = [\"madam\", \"racecar\", \"hello\", \"world\", \"level\", \"python\"]\n",
    "\n",
    "find_palindromes = lambda lst: list(filter(lambda x: x == x[::-1], lst))\n",
    "\n",
    "palindromes = find_palindromes(strings)\n",
    "print(palindromes)"
   ]
  },
  {
   "cell_type": "markdown",
   "metadata": {},
   "source": [
    "7. Write a Python program to create a Cartesian product of two or more given lists using \n",
    "itertool"
   ]
  },
  {
   "cell_type": "code",
   "execution_count": null,
   "metadata": {},
   "outputs": [],
   "source": [
    "import itertools\n",
    "\n",
    "list1 = [1, 2, 3]\n",
    "list2 = ['a', 'b', 'c']\n",
    "\n",
    "cartesian_product = list(itertools.product(list1, list2))\n",
    "print(cartesian_product)"
   ]
  },
  {
   "cell_type": "markdown",
   "metadata": {},
   "source": [
    "8. Write a Python program to generate all possible permutations of n different objects."
   ]
  },
  {
   "cell_type": "code",
   "execution_count": null,
   "metadata": {},
   "outputs": [],
   "source": [
    "permutations = list(itertools.permutations(list1))\n",
    "print(permutations)"
   ]
  }
 ],
 "metadata": {
  "kernelspec": {
   "display_name": "Python 3",
   "language": "python",
   "name": "python3"
  },
  "language_info": {
   "codemirror_mode": {
    "name": "ipython",
    "version": 3
   },
   "file_extension": ".py",
   "mimetype": "text/x-python",
   "name": "python",
   "nbconvert_exporter": "python",
   "pygments_lexer": "ipython3",
   "version": "3.13.1"
  }
 },
 "nbformat": 4,
 "nbformat_minor": 2
}
