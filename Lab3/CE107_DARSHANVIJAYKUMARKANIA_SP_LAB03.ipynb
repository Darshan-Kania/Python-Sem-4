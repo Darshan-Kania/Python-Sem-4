{
 "cells": [
  {
   "cell_type": "markdown",
   "metadata": {},
   "source": [
    "#### DATE: 16 DEC 2024"
   ]
  },
  {
   "cell_type": "markdown",
   "metadata": {},
   "source": [
    "# Lab3 Assignment\n"
   ]
  },
  {
   "cell_type": "markdown",
   "metadata": {},
   "source": [
    "1.  Write a Python function to check whether a string is a pangram or not.\n",
    "\n",
    "    - Note : Pangrams are words or sentences containing every letter of the alphabet at least once.\n",
    "    - For example : \"The quick brown fox jumps over the lazy dog\"\n"
   ]
  },
  {
   "cell_type": "code",
   "execution_count": null,
   "metadata": {},
   "outputs": [],
   "source": [
    "map = {}\n",
    "str = input(\"Enter a string: \")\n",
    "str = str.lower()\n",
    "for i in str:\n",
    "    if i != ' ':\n",
    "        if i in map:\n",
    "            map[i] += 1\n",
    "        else:\n",
    "            map[i] = 1\n",
    "print(map)\n",
    "if len(map) == 26:\n",
    "    print(\"The string is a pangram\")\n",
    "else:\n",
    "    print(\"The string is not a pangram\")"
   ]
  },
  {
   "cell_type": "markdown",
   "metadata": {},
   "source": [
    "2.  Write a Python function that takes a list and returns a new list with unique elements of the first list."
   ]
  },
  {
   "cell_type": "code",
   "execution_count": null,
   "metadata": {},
   "outputs": [],
   "source": [
    "import random\n",
    "def MakeListUniqe(lst):\n",
    "    return list(set(lst))\n",
    "lst = [random.randint(1, 100) for i in range(10)]\n",
    "print(lst)\n",
    "print(MakeListUniqe(lst))"
   ]
  },
  {
   "cell_type": "markdown",
   "metadata": {},
   "source": [
    "3.  Write a Python function that takes a list and returns product of all elements in the list."
   ]
  },
  {
   "cell_type": "code",
   "execution_count": null,
   "metadata": {},
   "outputs": [],
   "source": [
    "import operator\n",
    "from itertools import accumulate\n",
    "\n",
    "\n",
    "def ProductAllElementList(lst):\n",
    "    return list(accumulate(lst, operator.mul))[-1]\n",
    "\n",
    "\n",
    "lst = [random.randint(1, 5) for i in range(5)]\n",
    "print(lst)\n",
    "print(ProductAllElementList(lst))"
   ]
  },
  {
   "cell_type": "markdown",
   "metadata": {},
   "source": [
    "4.  Write a Python function student_data () which will print the id of a student (student_id). If the user passes an argument student_name or student_class the function will print the student name and class."
   ]
  },
  {
   "cell_type": "code",
   "execution_count": null,
   "metadata": {},
   "outputs": [],
   "source": [
    "def student_data(student_id, student_name=None, student_class=None):\n",
    "    print(f\"Student ID: {student_id}\")\n",
    "    if student_name:\n",
    "        print(f\"Student Name: {student_name}\")\n",
    "    if student_class:\n",
    "        print(f\"Student Class: {student_class}\")\n",
    "\n",
    "\n",
    "student_data(101)\n",
    "student_data(102, student_name=\"John Doe\")\n",
    "student_data(103, student_name=\"Jane Smith\", student_class=\"10th Grade\")"
   ]
  },
  {
   "cell_type": "markdown",
   "metadata": {},
   "source": [
    "5.  Write a Python class to find a pair of elements (indices of the two numbers) from a given array whose sum equals a specific target number.\n",
    "\n",
    "    - Input: numbers= [10,20,10,40,50,60,70], target=50\n",
    "    - Output: 3, 4"
   ]
  },
  {
   "cell_type": "code",
   "execution_count": null,
   "metadata": {},
   "outputs": [],
   "source": [
    "arr = []\n",
    "size = input(\"Enter the size of the array: \")\n",
    "sum = int(input(\"Enter the sum: \"))\n",
    "for i in range(0, int(size)):\n",
    "    arr.append(int((input(\"Enter the element: \"))))\n",
    "for i in range(0, len(arr)):\n",
    "    for j in range(i + 1, len(arr)):\n",
    "        if arr[i] + arr[j] == sum:\n",
    "            print(\"The pair is:{0},{1}\", i, j)"
   ]
  },
  {
   "cell_type": "markdown",
   "metadata": {},
   "source": [
    "6.  Write a Python class to reverse a string word by word."
   ]
  },
  {
   "cell_type": "code",
   "execution_count": null,
   "metadata": {},
   "outputs": [],
   "source": [
    "class StringReverser:\n",
    "    def __init__(self, input_str):\n",
    "        self.input_str = input_str\n",
    "\n",
    "    def reverse_words(self):\n",
    "        stack = []\n",
    "        for element in self.input_str.split():\n",
    "            stack.append(element)\n",
    "        rev_str = \"\"\n",
    "        for i in range(len(stack)):\n",
    "            rev_str += stack.pop() + \" \"\n",
    "        return rev_str.strip()\n",
    "input_str = input(\"Enter a string: \")\n",
    "reverser = StringReverser(input_str)\n",
    "print(reverser.reverse_words())"
   ]
  },
  {
   "cell_type": "markdown",
   "metadata": {},
   "source": [
    "7.  Create a BankAccount class. Your class should support the following methods:\n",
    "\n",
    "- withdraw\n",
    "- deposit\n",
    "- get_balance\n",
    "- change_pin\n",
    "\n",
    "- Create a SavingsAccount class that behaves just like a BankAccount, but also has an interest rate and a method that increases the balance by the appropriate amount of interest.\n",
    "- Once you’ve created a new class, it can be used just like any other class. For instance, you can create a subclass of a class that is a subclass of another class and so on. Create a FeeSavingsAccount class that behaves just like a SavingsAccount, but also charges a fee every time you withdraw money. The fee should be set in the constructor and deducted before each withdrawal."
   ]
  },
  {
   "cell_type": "code",
   "execution_count": null,
   "metadata": {},
   "outputs": [],
   "source": [
    "class BankAccount:\n",
    "    balance = 0\n",
    "    pin = None\n",
    "\n",
    "    def __init__(self, pin):\n",
    "        self.pin = pin\n",
    "\n",
    "    def deposit(self, amount):\n",
    "        self.balance += amount\n",
    "\n",
    "    def withdraw(self, amount):\n",
    "        if self.balance < amount:\n",
    "            print(\"Insufficient balance\")\n",
    "        else:\n",
    "            self.balance -= amount\n",
    "\n",
    "    def get_balance(self):\n",
    "        return self.balance\n",
    "\n",
    "    def change_pin(self, pin, current_pin):\n",
    "        if self.pin == current_pin:\n",
    "            self.pin = pin\n",
    "        else:\n",
    "            print(\"Invalid pin\")\n",
    "\n",
    "\n",
    "class SavingsAccount(BankAccount):\n",
    "    interest_rate = 0.05\n",
    "\n",
    "    def add_interest(self):\n",
    "        self.balance += self.balance * self.interest_rate\n",
    "\n",
    "\n",
    "class FeeSavingsAccount(SavingsAccount):\n",
    "    fee = 10\n",
    "\n",
    "    def __init__(self, pin):\n",
    "        super().__init__(pin)\n",
    "\n",
    "    def withdraw(self, amount):\n",
    "        if self.balance < amount + self.fee:\n",
    "            print(\"Insufficient balance\")\n",
    "        else:\n",
    "            self.balance -= amount + self.fee"
   ]
  }
 ],
 "metadata": {
  "kernelspec": {
   "display_name": "Python 3",
   "language": "python",
   "name": "python3"
  },
  "language_info": {
   "codemirror_mode": {
    "name": "ipython",
    "version": 3
   },
   "file_extension": ".py",
   "mimetype": "text/x-python",
   "name": "python",
   "nbconvert_exporter": "python",
   "pygments_lexer": "ipython3",
   "version": "3.13.1"
  }
 },
 "nbformat": 4,
 "nbformat_minor": 2
}
